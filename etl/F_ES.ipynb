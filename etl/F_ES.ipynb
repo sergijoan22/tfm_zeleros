{
 "cells": [
  {
   "cell_type": "markdown",
   "metadata": {},
   "source": [
    "##### CONFIGURACION INICIAL"
   ]
  },
  {
   "cell_type": "code",
   "execution_count": 1,
   "metadata": {},
   "outputs": [],
   "source": [
    "# LIBRERIAS USADAS\n",
    "import pandas as pd\n",
    "from datetime import datetime"
   ]
  },
  {
   "cell_type": "code",
   "execution_count": 2,
   "metadata": {},
   "outputs": [
    {
     "data": {
      "text/html": [
       "<div>\n",
       "<style scoped>\n",
       "    .dataframe tbody tr th:only-of-type {\n",
       "        vertical-align: middle;\n",
       "    }\n",
       "\n",
       "    .dataframe tbody tr th {\n",
       "        vertical-align: top;\n",
       "    }\n",
       "\n",
       "    .dataframe thead th {\n",
       "        text-align: right;\n",
       "    }\n",
       "</style>\n",
       "<table border=\"1\" class=\"dataframe\">\n",
       "  <thead>\n",
       "    <tr style=\"text-align: right;\">\n",
       "      <th></th>\n",
       "      <th>aeropuerto</th>\n",
       "      <th>fecha_hora</th>\n",
       "      <th>llegada_salida</th>\n",
       "      <th>airline_prin</th>\n",
       "      <th>nvuelo_prin</th>\n",
       "      <th>aeropuerto_origen_destino</th>\n",
       "      <th>aeropuerto_escala</th>\n",
       "      <th>asientos</th>\n",
       "      <th>tipo_avion</th>\n",
       "      <th>airline</th>\n",
       "      <th>nvuelo</th>\n",
       "    </tr>\n",
       "  </thead>\n",
       "  <tbody>\n",
       "    <tr>\n",
       "      <th>0</th>\n",
       "      <td>ACE</td>\n",
       "      <td>31-07-2022 06:45</td>\n",
       "      <td>L</td>\n",
       "      <td>PM</td>\n",
       "      <td>703</td>\n",
       "      <td>LPA</td>\n",
       "      <td>LPA</td>\n",
       "      <td>72</td>\n",
       "      <td>AT7</td>\n",
       "      <td>NaN</td>\n",
       "      <td>NaN</td>\n",
       "    </tr>\n",
       "    <tr>\n",
       "      <th>1</th>\n",
       "      <td>ACE</td>\n",
       "      <td>31-07-2022 06:45</td>\n",
       "      <td>L</td>\n",
       "      <td>PM</td>\n",
       "      <td>703</td>\n",
       "      <td>LPA</td>\n",
       "      <td>LPA</td>\n",
       "      <td>72</td>\n",
       "      <td>AT7</td>\n",
       "      <td>UX</td>\n",
       "      <td>2145</td>\n",
       "    </tr>\n",
       "    <tr>\n",
       "      <th>2</th>\n",
       "      <td>ACE</td>\n",
       "      <td>31-07-2022 06:45</td>\n",
       "      <td>L</td>\n",
       "      <td>RSC</td>\n",
       "      <td>500</td>\n",
       "      <td>LPA</td>\n",
       "      <td>LPA</td>\n",
       "      <td>72</td>\n",
       "      <td>AT7</td>\n",
       "      <td>NaN</td>\n",
       "      <td>NaN</td>\n",
       "    </tr>\n",
       "    <tr>\n",
       "      <th>3</th>\n",
       "      <td>ACE</td>\n",
       "      <td>31-07-2022 07:10</td>\n",
       "      <td>L</td>\n",
       "      <td>VOE</td>\n",
       "      <td>3550</td>\n",
       "      <td>OVD</td>\n",
       "      <td>OVD</td>\n",
       "      <td>156</td>\n",
       "      <td>319</td>\n",
       "      <td>NaN</td>\n",
       "      <td>NaN</td>\n",
       "    </tr>\n",
       "    <tr>\n",
       "      <th>4</th>\n",
       "      <td>ACE</td>\n",
       "      <td>31-07-2022 07:15</td>\n",
       "      <td>L</td>\n",
       "      <td>FR</td>\n",
       "      <td>6770</td>\n",
       "      <td>AGP</td>\n",
       "      <td>AGP</td>\n",
       "      <td>189</td>\n",
       "      <td>73H</td>\n",
       "      <td>NaN</td>\n",
       "      <td>NaN</td>\n",
       "    </tr>\n",
       "  </tbody>\n",
       "</table>\n",
       "</div>"
      ],
      "text/plain": [
       "  aeropuerto        fecha_hora llegada_salida airline_prin nvuelo_prin  \\\n",
       "0        ACE  31-07-2022 06:45              L           PM         703   \n",
       "1        ACE  31-07-2022 06:45              L           PM         703   \n",
       "2        ACE  31-07-2022 06:45              L          RSC         500   \n",
       "3        ACE  31-07-2022 07:10              L          VOE        3550   \n",
       "4        ACE  31-07-2022 07:15              L           FR        6770   \n",
       "\n",
       "  aeropuerto_origen_destino aeropuerto_escala  asientos tipo_avion airline  \\\n",
       "0                       LPA               LPA        72        AT7     NaN   \n",
       "1                       LPA               LPA        72        AT7      UX   \n",
       "2                       LPA               LPA        72        AT7     NaN   \n",
       "3                       OVD               OVD       156        319     NaN   \n",
       "4                       AGP               AGP       189        73H     NaN   \n",
       "\n",
       "  nvuelo  \n",
       "0    NaN  \n",
       "1   2145  \n",
       "2    NaN  \n",
       "3    NaN  \n",
       "4    NaN  "
      ]
     },
     "execution_count": 2,
     "metadata": {},
     "output_type": "execute_result"
    }
   ],
   "source": [
    "# LEER CSV\n",
    "flights_spain = pd.read_csv(r'..\\data_in\\F\\ES\\F_ES.txt', sep=\",\", low_memory=False)\n",
    "flights_spain.head()"
   ]
  },
  {
   "cell_type": "markdown",
   "metadata": {},
   "source": [
    "##### TRANSFORMACIONES"
   ]
  },
  {
   "cell_type": "code",
   "execution_count": 3,
   "metadata": {},
   "outputs": [],
   "source": [
    "# COLUMNA FECHA A TIPO DATE\n",
    "flights_spain['fecha_hora'] = pd.to_datetime(flights_spain['fecha_hora'], format='%d-%m-%Y %H:%M').dt.date"
   ]
  },
  {
   "cell_type": "code",
   "execution_count": 4,
   "metadata": {},
   "outputs": [],
   "source": [
    "# CADA TRAYECTO ESTA DOS VECES, UNO POR EL AEROPUERTO DE IDA Y OTRO EL DE VUELTA\n",
    "flights_spain = flights_spain.loc[flights_spain['llegada_salida'] == 'S']"
   ]
  },
  {
   "cell_type": "code",
   "execution_count": 5,
   "metadata": {},
   "outputs": [],
   "source": [
    "# RENAME COLUMNS\n",
    "column_names = {'aeropuerto':'airport_start_id',\n",
    "    \"fecha_hora\":\"date\",\n",
    "    \"aeropuerto_origen_destino\": \"airport_end_id\",\n",
    "    \"asientos\":\"capacity\"}\n",
    "flights_spain.rename(columns = column_names, inplace = True)"
   ]
  },
  {
   "cell_type": "code",
   "execution_count": 6,
   "metadata": {},
   "outputs": [
    {
     "data": {
      "text/html": [
       "<div>\n",
       "<style scoped>\n",
       "    .dataframe tbody tr th:only-of-type {\n",
       "        vertical-align: middle;\n",
       "    }\n",
       "\n",
       "    .dataframe tbody tr th {\n",
       "        vertical-align: top;\n",
       "    }\n",
       "\n",
       "    .dataframe thead th {\n",
       "        text-align: right;\n",
       "    }\n",
       "</style>\n",
       "<table border=\"1\" class=\"dataframe\">\n",
       "  <thead>\n",
       "    <tr style=\"text-align: right;\">\n",
       "      <th></th>\n",
       "      <th>airport_start_id</th>\n",
       "      <th>airport_end_id</th>\n",
       "      <th>date</th>\n",
       "      <th>capacity</th>\n",
       "    </tr>\n",
       "  </thead>\n",
       "  <tbody>\n",
       "    <tr>\n",
       "      <th>4184</th>\n",
       "      <td>ACE</td>\n",
       "      <td>LPA</td>\n",
       "      <td>2022-07-31</td>\n",
       "      <td>72</td>\n",
       "    </tr>\n",
       "    <tr>\n",
       "      <th>4185</th>\n",
       "      <td>ACE</td>\n",
       "      <td>TFN</td>\n",
       "      <td>2022-07-31</td>\n",
       "      <td>72</td>\n",
       "    </tr>\n",
       "    <tr>\n",
       "      <th>4186</th>\n",
       "      <td>ACE</td>\n",
       "      <td>ZAZ</td>\n",
       "      <td>2022-07-31</td>\n",
       "      <td>180</td>\n",
       "    </tr>\n",
       "    <tr>\n",
       "      <th>4187</th>\n",
       "      <td>ACE</td>\n",
       "      <td>LPA</td>\n",
       "      <td>2022-07-31</td>\n",
       "      <td>72</td>\n",
       "    </tr>\n",
       "    <tr>\n",
       "      <th>4188</th>\n",
       "      <td>ACE</td>\n",
       "      <td>LPA</td>\n",
       "      <td>2022-07-31</td>\n",
       "      <td>72</td>\n",
       "    </tr>\n",
       "  </tbody>\n",
       "</table>\n",
       "</div>"
      ],
      "text/plain": [
       "     airport_start_id airport_end_id        date  capacity\n",
       "4184              ACE            LPA  2022-07-31        72\n",
       "4185              ACE            TFN  2022-07-31        72\n",
       "4186              ACE            ZAZ  2022-07-31       180\n",
       "4187              ACE            LPA  2022-07-31        72\n",
       "4188              ACE            LPA  2022-07-31        72"
      ]
     },
     "execution_count": 6,
     "metadata": {},
     "output_type": "execute_result"
    }
   ],
   "source": [
    "# REMOVE COLUMNS\n",
    "flights_spain = flights_spain[[\"airport_start_id\", \"airport_end_id\", \"date\", \"capacity\"]]\n",
    "flights_spain.head()"
   ]
  },
  {
   "cell_type": "markdown",
   "metadata": {},
   "source": [
    "##### GUARDAR RESULTADOS"
   ]
  },
  {
   "cell_type": "code",
   "execution_count": 7,
   "metadata": {},
   "outputs": [],
   "source": [
    "flights_spain.to_csv(r'..\\data_out\\trips_F_ES.csv', sep=\";\", decimal=',', index = False)"
   ]
  }
 ],
 "metadata": {
  "kernelspec": {
   "display_name": "Python 3.9.6 64-bit",
   "language": "python",
   "name": "python3"
  },
  "language_info": {
   "codemirror_mode": {
    "name": "ipython",
    "version": 3
   },
   "file_extension": ".py",
   "mimetype": "text/x-python",
   "name": "python",
   "nbconvert_exporter": "python",
   "pygments_lexer": "ipython3",
   "version": "3.9.6"
  },
  "orig_nbformat": 4,
  "vscode": {
   "interpreter": {
    "hash": "52634da84371cba311ea128a5ea7cdc41ff074b781779e754b270ff9f8153cee"
   }
  }
 },
 "nbformat": 4,
 "nbformat_minor": 2
}
